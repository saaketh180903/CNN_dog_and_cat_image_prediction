{
 "cells": [
  {
   "cell_type": "markdown",
   "id": "93b0ec3d-90d4-4f9b-adeb-868afbd5eb1a",
   "metadata": {},
   "source": [
    "Importing the libraries"
   ]
  },
  {
   "cell_type": "code",
   "execution_count": 1,
   "id": "08693c1f-ffa6-44ba-b812-bd38ae6b64ac",
   "metadata": {},
   "outputs": [],
   "source": [
    "import tensorflow as tf\n",
    "from tensorflow.keras.preprocessing.image import ImageDataGenerator\n",
    "from tensorflow.keras.utils import load_img, img_to_array\n",
    "import numpy as np"
   ]
  },
  {
   "cell_type": "markdown",
   "id": "680e84c0-1985-4d01-a33d-413043bccbac",
   "metadata": {},
   "source": [
    "Data Preprocessing"
   ]
  },
  {
   "cell_type": "markdown",
   "id": "95d65728-5d7a-4f8a-bfa9-62d7572dbf16",
   "metadata": {},
   "source": [
    "Preprocessing training data"
   ]
  },
  {
   "cell_type": "code",
   "execution_count": 2,
   "id": "63cfe0a9-6f7b-48b7-92d3-667a6c03b086",
   "metadata": {},
   "outputs": [
    {
     "name": "stdout",
     "output_type": "stream",
     "text": [
      "Found 8000 images belonging to 2 classes.\n"
     ]
    }
   ],
   "source": [
    "train_datagen = ImageDataGenerator(rescale = 1./255,\n",
    "                                   shear_range = 0.2,\n",
    "                                   zoom_range = 0.2,\n",
    "                                   horizontal_flip = True)\n",
    "training_set = train_datagen.flow_from_directory('dataset/training_set',\n",
    "                                                 target_size = (64, 64),\n",
    "                                                 batch_size = 32,\n",
    "                                                 class_mode = 'binary')"
   ]
  },
  {
   "cell_type": "markdown",
   "id": "5289358c-02c3-4122-bafa-70decd7f8c8c",
   "metadata": {},
   "source": [
    "Preprocessing test data"
   ]
  },
  {
   "cell_type": "code",
   "execution_count": 3,
   "id": "d71f36d1-9d8e-4c85-a474-3fcaa62c723c",
   "metadata": {},
   "outputs": [
    {
     "name": "stdout",
     "output_type": "stream",
     "text": [
      "Found 2000 images belonging to 2 classes.\n"
     ]
    }
   ],
   "source": [
    "test_datagen = ImageDataGenerator(rescale = 1./255)\n",
    "test_set = test_datagen.flow_from_directory('dataset/test_set',\n",
    "                                                 target_size = (64, 64),\n",
    "                                                 batch_size = 32,\n",
    "                                                 class_mode = 'binary')"
   ]
  },
  {
   "cell_type": "markdown",
   "id": "f8aa0fca-133a-4875-a04e-63db6577901f",
   "metadata": {},
   "source": [
    "Building the CNN"
   ]
  },
  {
   "cell_type": "code",
   "execution_count": 4,
   "id": "3019a9e4-856e-40af-a226-26dab342fa82",
   "metadata": {},
   "outputs": [],
   "source": [
    "cnn=tf.keras.models.Sequential()"
   ]
  },
  {
   "cell_type": "markdown",
   "id": "4d8f5ef6-82f0-49d1-95f1-e30460c6b85c",
   "metadata": {},
   "source": [
    "Step1-Convulution"
   ]
  },
  {
   "cell_type": "code",
   "execution_count": 5,
   "id": "c08dbd43-a111-4ee0-b1b1-0ad58769e1a9",
   "metadata": {},
   "outputs": [
    {
     "name": "stderr",
     "output_type": "stream",
     "text": [
      "C:\\Users\\saake\\AppData\\Local\\Programs\\Python\\Python312\\Lib\\site-packages\\keras\\src\\layers\\convolutional\\base_conv.py:107: UserWarning: Do not pass an `input_shape`/`input_dim` argument to a layer. When using Sequential models, prefer using an `Input(shape)` object as the first layer in the model instead.\n",
      "  super().__init__(activity_regularizer=activity_regularizer, **kwargs)\n"
     ]
    }
   ],
   "source": [
    "cnn.add(tf.keras.layers.Conv2D(filters=32, kernel_size=3, activation='relu', input_shape=[64,64,3]))"
   ]
  },
  {
   "cell_type": "markdown",
   "id": "1ada335a-8647-41f4-9aa4-bc604668069f",
   "metadata": {},
   "source": [
    "Step 2 - Pooling"
   ]
  },
  {
   "cell_type": "code",
   "execution_count": 6,
   "id": "41afa130-a22e-44bb-97ee-f1887f34834a",
   "metadata": {},
   "outputs": [],
   "source": [
    "cnn.add(tf.keras.layers.MaxPool2D(pool_size=2, strides=2))"
   ]
  },
  {
   "cell_type": "markdown",
   "id": "89dc043f-7f38-4f35-b650-038ee69f1eb2",
   "metadata": {},
   "source": [
    "Add a second convulution layer"
   ]
  },
  {
   "cell_type": "code",
   "execution_count": 7,
   "id": "928c6870-6d10-46e6-bcaf-b41864d69d37",
   "metadata": {},
   "outputs": [],
   "source": [
    "cnn.add(tf.keras.layers.Conv2D(filters=32, kernel_size=3, activation='relu'))\n",
    "cnn.add(tf.keras.layers.MaxPool2D(pool_size=2, strides=2))"
   ]
  },
  {
   "cell_type": "markdown",
   "id": "021eb7d1-e38f-46ef-833f-45dffb460dd1",
   "metadata": {},
   "source": [
    "Step 3 - Flattening"
   ]
  },
  {
   "cell_type": "code",
   "execution_count": 8,
   "id": "01496007-7d2b-4d84-b1bc-5b610e7f98ca",
   "metadata": {},
   "outputs": [],
   "source": [
    "cnn.add(tf.keras.layers.Flatten())"
   ]
  },
  {
   "cell_type": "markdown",
   "id": "ef7f4f16-793a-4daa-b0b7-c377360caa9d",
   "metadata": {},
   "source": [
    "Step 4 - Full connection"
   ]
  },
  {
   "cell_type": "code",
   "execution_count": 9,
   "id": "19381d88-0995-45fe-833b-58a6730ccca4",
   "metadata": {},
   "outputs": [],
   "source": [
    "cnn.add(tf.keras.layers.Dense(units=128, activation='relu'))"
   ]
  },
  {
   "cell_type": "markdown",
   "id": "8f5a8173-1770-45ab-a499-5b9056f5aa6d",
   "metadata": {},
   "source": [
    "Step 5 - Output layer"
   ]
  },
  {
   "cell_type": "code",
   "execution_count": 10,
   "id": "60e3ce95-f18f-48c2-857b-ba16cee115e9",
   "metadata": {},
   "outputs": [],
   "source": [
    "cnn.add(tf.keras.layers.Dense(units=1, activation='sigmoid'))"
   ]
  },
  {
   "cell_type": "markdown",
   "id": "69b458c7-d677-4909-8c62-08d629a7b75f",
   "metadata": {},
   "source": [
    "Compiling the CNN"
   ]
  },
  {
   "cell_type": "code",
   "execution_count": 11,
   "id": "b7211d39-175b-41da-98da-d6a8c5290535",
   "metadata": {},
   "outputs": [],
   "source": [
    "cnn.compile(optimizer='adam',loss='binary_crossentropy',metrics=['accuracy'])"
   ]
  },
  {
   "cell_type": "markdown",
   "id": "4896d240-f722-4e10-afbb-f2fb87ae9964",
   "metadata": {},
   "source": [
    "Training the CNN on training set"
   ]
  },
  {
   "cell_type": "code",
   "execution_count": 12,
   "id": "07c0ab67-9b70-4f83-95f5-654d086748f6",
   "metadata": {},
   "outputs": [
    {
     "name": "stdout",
     "output_type": "stream",
     "text": [
      "Epoch 1/25\n"
     ]
    },
    {
     "name": "stderr",
     "output_type": "stream",
     "text": [
      "C:\\Users\\saake\\AppData\\Local\\Programs\\Python\\Python312\\Lib\\site-packages\\keras\\src\\trainers\\data_adapters\\py_dataset_adapter.py:121: UserWarning: Your `PyDataset` class should call `super().__init__(**kwargs)` in its constructor. `**kwargs` can include `workers`, `use_multiprocessing`, `max_queue_size`. Do not pass these arguments to `fit()`, as they will be ignored.\n",
      "  self._warn_if_super_not_called()\n"
     ]
    },
    {
     "name": "stdout",
     "output_type": "stream",
     "text": [
      "\u001b[1m250/250\u001b[0m \u001b[32m━━━━━━━━━━━━━━━━━━━━\u001b[0m\u001b[37m\u001b[0m \u001b[1m112s\u001b[0m 420ms/step - accuracy: 0.5367 - loss: 0.6881 - val_accuracy: 0.6400 - val_loss: 0.6391\n",
      "Epoch 2/25\n",
      "\u001b[1m250/250\u001b[0m \u001b[32m━━━━━━━━━━━━━━━━━━━━\u001b[0m\u001b[37m\u001b[0m \u001b[1m61s\u001b[0m 240ms/step - accuracy: 0.6404 - loss: 0.6336 - val_accuracy: 0.6865 - val_loss: 0.6025\n",
      "Epoch 3/25\n",
      "\u001b[1m250/250\u001b[0m \u001b[32m━━━━━━━━━━━━━━━━━━━━\u001b[0m\u001b[37m\u001b[0m \u001b[1m61s\u001b[0m 239ms/step - accuracy: 0.6837 - loss: 0.5912 - val_accuracy: 0.7110 - val_loss: 0.5735\n",
      "Epoch 4/25\n",
      "\u001b[1m250/250\u001b[0m \u001b[32m━━━━━━━━━━━━━━━━━━━━\u001b[0m\u001b[37m\u001b[0m \u001b[1m61s\u001b[0m 240ms/step - accuracy: 0.7122 - loss: 0.5554 - val_accuracy: 0.7285 - val_loss: 0.5387\n",
      "Epoch 5/25\n",
      "\u001b[1m250/250\u001b[0m \u001b[32m━━━━━━━━━━━━━━━━━━━━\u001b[0m\u001b[37m\u001b[0m \u001b[1m62s\u001b[0m 242ms/step - accuracy: 0.7403 - loss: 0.5229 - val_accuracy: 0.7310 - val_loss: 0.5472\n",
      "Epoch 6/25\n",
      "\u001b[1m250/250\u001b[0m \u001b[32m━━━━━━━━━━━━━━━━━━━━\u001b[0m\u001b[37m\u001b[0m \u001b[1m61s\u001b[0m 240ms/step - accuracy: 0.7571 - loss: 0.4924 - val_accuracy: 0.7520 - val_loss: 0.5142\n",
      "Epoch 7/25\n",
      "\u001b[1m250/250\u001b[0m \u001b[32m━━━━━━━━━━━━━━━━━━━━\u001b[0m\u001b[37m\u001b[0m \u001b[1m61s\u001b[0m 239ms/step - accuracy: 0.7725 - loss: 0.4667 - val_accuracy: 0.7815 - val_loss: 0.4768\n",
      "Epoch 8/25\n",
      "\u001b[1m250/250\u001b[0m \u001b[32m━━━━━━━━━━━━━━━━━━━━\u001b[0m\u001b[37m\u001b[0m \u001b[1m61s\u001b[0m 240ms/step - accuracy: 0.7770 - loss: 0.4657 - val_accuracy: 0.7835 - val_loss: 0.4664\n",
      "Epoch 9/25\n",
      "\u001b[1m250/250\u001b[0m \u001b[32m━━━━━━━━━━━━━━━━━━━━\u001b[0m\u001b[37m\u001b[0m \u001b[1m62s\u001b[0m 243ms/step - accuracy: 0.7908 - loss: 0.4413 - val_accuracy: 0.7765 - val_loss: 0.4909\n",
      "Epoch 10/25\n",
      "\u001b[1m250/250\u001b[0m \u001b[32m━━━━━━━━━━━━━━━━━━━━\u001b[0m\u001b[37m\u001b[0m \u001b[1m62s\u001b[0m 241ms/step - accuracy: 0.8007 - loss: 0.4283 - val_accuracy: 0.7950 - val_loss: 0.4544\n",
      "Epoch 11/25\n",
      "\u001b[1m250/250\u001b[0m \u001b[32m━━━━━━━━━━━━━━━━━━━━\u001b[0m\u001b[37m\u001b[0m \u001b[1m62s\u001b[0m 242ms/step - accuracy: 0.8076 - loss: 0.4111 - val_accuracy: 0.7795 - val_loss: 0.4707\n",
      "Epoch 12/25\n",
      "\u001b[1m250/250\u001b[0m \u001b[32m━━━━━━━━━━━━━━━━━━━━\u001b[0m\u001b[37m\u001b[0m \u001b[1m63s\u001b[0m 244ms/step - accuracy: 0.8198 - loss: 0.3926 - val_accuracy: 0.7835 - val_loss: 0.4858\n",
      "Epoch 13/25\n",
      "\u001b[1m250/250\u001b[0m \u001b[32m━━━━━━━━━━━━━━━━━━━━\u001b[0m\u001b[37m\u001b[0m \u001b[1m62s\u001b[0m 241ms/step - accuracy: 0.8311 - loss: 0.3662 - val_accuracy: 0.7880 - val_loss: 0.4882\n",
      "Epoch 14/25\n",
      "\u001b[1m250/250\u001b[0m \u001b[32m━━━━━━━━━━━━━━━━━━━━\u001b[0m\u001b[37m\u001b[0m \u001b[1m62s\u001b[0m 244ms/step - accuracy: 0.8314 - loss: 0.3693 - val_accuracy: 0.8050 - val_loss: 0.4560\n",
      "Epoch 15/25\n",
      "\u001b[1m250/250\u001b[0m \u001b[32m━━━━━━━━━━━━━━━━━━━━\u001b[0m\u001b[37m\u001b[0m \u001b[1m63s\u001b[0m 244ms/step - accuracy: 0.8481 - loss: 0.3460 - val_accuracy: 0.8115 - val_loss: 0.4775\n",
      "Epoch 16/25\n",
      "\u001b[1m250/250\u001b[0m \u001b[32m━━━━━━━━━━━━━━━━━━━━\u001b[0m\u001b[37m\u001b[0m \u001b[1m62s\u001b[0m 243ms/step - accuracy: 0.8504 - loss: 0.3323 - val_accuracy: 0.7955 - val_loss: 0.4785\n",
      "Epoch 17/25\n",
      "\u001b[1m250/250\u001b[0m \u001b[32m━━━━━━━━━━━━━━━━━━━━\u001b[0m\u001b[37m\u001b[0m \u001b[1m62s\u001b[0m 244ms/step - accuracy: 0.8579 - loss: 0.3212 - val_accuracy: 0.7980 - val_loss: 0.4911\n",
      "Epoch 18/25\n",
      "\u001b[1m250/250\u001b[0m \u001b[32m━━━━━━━━━━━━━━━━━━━━\u001b[0m\u001b[37m\u001b[0m \u001b[1m62s\u001b[0m 240ms/step - accuracy: 0.8732 - loss: 0.2879 - val_accuracy: 0.8040 - val_loss: 0.4827\n",
      "Epoch 19/25\n",
      "\u001b[1m250/250\u001b[0m \u001b[32m━━━━━━━━━━━━━━━━━━━━\u001b[0m\u001b[37m\u001b[0m \u001b[1m62s\u001b[0m 243ms/step - accuracy: 0.8821 - loss: 0.2765 - val_accuracy: 0.7810 - val_loss: 0.5043\n",
      "Epoch 20/25\n",
      "\u001b[1m250/250\u001b[0m \u001b[32m━━━━━━━━━━━━━━━━━━━━\u001b[0m\u001b[37m\u001b[0m \u001b[1m62s\u001b[0m 244ms/step - accuracy: 0.8832 - loss: 0.2793 - val_accuracy: 0.8035 - val_loss: 0.5016\n",
      "Epoch 21/25\n",
      "\u001b[1m250/250\u001b[0m \u001b[32m━━━━━━━━━━━━━━━━━━━━\u001b[0m\u001b[37m\u001b[0m \u001b[1m62s\u001b[0m 244ms/step - accuracy: 0.8915 - loss: 0.2619 - val_accuracy: 0.7975 - val_loss: 0.4979\n",
      "Epoch 22/25\n",
      "\u001b[1m250/250\u001b[0m \u001b[32m━━━━━━━━━━━━━━━━━━━━\u001b[0m\u001b[37m\u001b[0m \u001b[1m62s\u001b[0m 243ms/step - accuracy: 0.8969 - loss: 0.2481 - val_accuracy: 0.7940 - val_loss: 0.5190\n",
      "Epoch 23/25\n",
      "\u001b[1m250/250\u001b[0m \u001b[32m━━━━━━━━━━━━━━━━━━━━\u001b[0m\u001b[37m\u001b[0m \u001b[1m62s\u001b[0m 244ms/step - accuracy: 0.9083 - loss: 0.2252 - val_accuracy: 0.8010 - val_loss: 0.5108\n",
      "Epoch 24/25\n",
      "\u001b[1m250/250\u001b[0m \u001b[32m━━━━━━━━━━━━━━━━━━━━\u001b[0m\u001b[37m\u001b[0m \u001b[1m63s\u001b[0m 245ms/step - accuracy: 0.9123 - loss: 0.2264 - val_accuracy: 0.8110 - val_loss: 0.5345\n",
      "Epoch 25/25\n",
      "\u001b[1m250/250\u001b[0m \u001b[32m━━━━━━━━━━━━━━━━━━━━\u001b[0m\u001b[37m\u001b[0m \u001b[1m63s\u001b[0m 247ms/step - accuracy: 0.9170 - loss: 0.2086 - val_accuracy: 0.8115 - val_loss: 0.5455\n"
     ]
    },
    {
     "data": {
      "text/plain": [
       "<keras.src.callbacks.history.History at 0x1e59c4894c0>"
      ]
     },
     "execution_count": 12,
     "metadata": {},
     "output_type": "execute_result"
    }
   ],
   "source": [
    "cnn.fit(x = training_set, validation_data=test_set, epochs = 25)"
   ]
  },
  {
   "cell_type": "markdown",
   "id": "c56fd71a-cf62-4342-af7d-5ca846e1f040",
   "metadata": {},
   "source": [
    "Making single predictions"
   ]
  },
  {
   "cell_type": "code",
   "execution_count": 19,
   "id": "01bb06d8-42a8-4d36-8cac-02c58a05a874",
   "metadata": {},
   "outputs": [
    {
     "name": "stdout",
     "output_type": "stream",
     "text": [
      "\u001b[1m1/1\u001b[0m \u001b[32m━━━━━━━━━━━━━━━━━━━━\u001b[0m\u001b[37m\u001b[0m \u001b[1m0s\u001b[0m 29ms/step\n"
     ]
    }
   ],
   "source": [
    "test_image=load_img('dataset/single_prediction/cat_or_dog_2.jpg', target_size=(64,64))\n",
    "test_image=img_to_array(test_image)\n",
    "test_image=np.expand_dims(test_image, axis=0)\n",
    "result=cnn.predict(test_image/255.0)\n",
    "training_set.class_indices\n",
    "if result[0][0] > 0.5:\n",
    "    prediction = 'dog'\n",
    "else:\n",
    "    prediction = 'cat'"
   ]
  },
  {
   "cell_type": "code",
   "execution_count": 17,
   "id": "47dc0bf8-3ce2-4299-a36a-3c4548ab3301",
   "metadata": {},
   "outputs": [
    {
     "name": "stdout",
     "output_type": "stream",
     "text": [
      "cat\n"
     ]
    }
   ],
   "source": [
    "print(prediction)"
   ]
  },
  {
   "cell_type": "code",
   "execution_count": null,
   "id": "38fc9584-6765-4340-8671-6fcb5e2aa27e",
   "metadata": {},
   "outputs": [],
   "source": []
  }
 ],
 "metadata": {
  "kernelspec": {
   "display_name": "Python 3 (ipykernel)",
   "language": "python",
   "name": "python3"
  },
  "language_info": {
   "codemirror_mode": {
    "name": "ipython",
    "version": 3
   },
   "file_extension": ".py",
   "mimetype": "text/x-python",
   "name": "python",
   "nbconvert_exporter": "python",
   "pygments_lexer": "ipython3",
   "version": "3.12.4"
  }
 },
 "nbformat": 4,
 "nbformat_minor": 5
}
